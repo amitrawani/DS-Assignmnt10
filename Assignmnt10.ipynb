{
 "cells": [
  {
   "cell_type": "code",
   "execution_count": null,
   "id": "c9f40526-dcf3-4e0c-bcdc-0529a76a3bbe",
   "metadata": {},
   "outputs": [],
   "source": [
    "Q1, Create a vehicle class with an init method having instance variables as name_of_vehicle, max_speed\n",
    "and average_of_vehicle."
   ]
  },
  {
   "cell_type": "code",
   "execution_count": 1,
   "id": "f6a506aa-0aa7-446b-96b6-99faffbf14ca",
   "metadata": {},
   "outputs": [],
   "source": [
    "class Vehicle:\n",
    "    def __init__(self, name_of_vehicle, max_speed, average_of_vehicle):\n",
    "        self.name_of_vehicle = name_of_vehicle\n",
    "        self.max_speed = max_speed\n",
    "        self.average_of_vehicle = average_of_vehicle\n"
   ]
  },
  {
   "cell_type": "code",
   "execution_count": 2,
   "id": "14f98850-a999-4587-8c9a-f4c8c526350d",
   "metadata": {},
   "outputs": [
    {
     "name": "stdout",
     "output_type": "stream",
     "text": [
      "Car\n",
      "200\n",
      "30\n"
     ]
    }
   ],
   "source": [
    "car = Vehicle(\"Car\", 200, 30)\n",
    "print(car.name_of_vehicle)         \n",
    "print(car.max_speed)                \n",
    "print(car.average_of_vehicle)       \n"
   ]
  },
  {
   "cell_type": "code",
   "execution_count": null,
   "id": "7b54ec93-85db-4454-b899-f359a5302b68",
   "metadata": {},
   "outputs": [],
   "source": [
    "Q2. Create a child class car from the vehicle class created in Que 1, which will inherit the vehicle class.\n",
    "Create a method named seating_capacity which takes capacity as an argument and returns the name of\n",
    "the vehicle and its seating capacity.\n"
   ]
  },
  {
   "cell_type": "code",
   "execution_count": 3,
   "id": "0952fcec-2552-46d0-b44e-db26132a7810",
   "metadata": {},
   "outputs": [],
   "source": [
    "class Car(Vehicle):\n",
    "    def seating_capacity(self, capacity):\n",
    "        return f\"The {self.name_of_vehicle} has a seating capacity of {capacity} people.\"\n"
   ]
  },
  {
   "cell_type": "code",
   "execution_count": 5,
   "id": "fb48a420-d94e-457a-a064-3e0f48bbeaee",
   "metadata": {},
   "outputs": [
    {
     "name": "stdout",
     "output_type": "stream",
     "text": [
      "The Car has a seating capacity of 4 people.\n"
     ]
    }
   ],
   "source": [
    "car = Car(\"Car\", 200, 30)\n",
    "print(car.seating_capacity(4))\n"
   ]
  },
  {
   "cell_type": "code",
   "execution_count": null,
   "id": "9008378f-a1ba-4d4c-9342-560fe76063a8",
   "metadata": {},
   "outputs": [],
   "source": [
    "Q3. What is multiple inheritance? Write a python code to demonstrate multiple inheritance.\n",
    "Ans: Multiple inheritance is a feature in object-oriented programming where a class can inherit attributes and methods from multiple parent classes. \n",
    "This allows a child class to inherit and combine the characteristics \n",
    "and behaviors of multiple classes."
   ]
  },
  {
   "cell_type": "code",
   "execution_count": 7,
   "id": "5baadd6d-8b3c-40e3-bc17-917d4f3d4a93",
   "metadata": {},
   "outputs": [
    {
     "name": "stdout",
     "output_type": "stream",
     "text": [
      "Sparrow is eating.\n",
      "Sparrow is sleeping.\n",
      "Sparrow is flying.\n"
     ]
    }
   ],
   "source": [
    " # example in Python to demonstrate multiple inheritance:\n",
    "class Animal:\n",
    "    def __init__(self, name):\n",
    "        self.name = name\n",
    "\n",
    "    def eat(self):\n",
    "        print(f\"{self.name} is eating.\")\n",
    "\n",
    "    def sleep(self):\n",
    "        print(f\"{self.name} is sleeping.\")\n",
    "\n",
    "\n",
    "class Flyable:\n",
    "    def fly(self):\n",
    "        print(f\"{self.name} is flying.\")\n",
    "\n",
    "\n",
    "class Bird(Animal, Flyable):\n",
    "    def __init__(self, name):\n",
    "        super().__init__(name)\n",
    "\n",
    "\n",
    "bird = Bird(\"Sparrow\")\n",
    "bird.eat()      \n",
    "bird.sleep()    \n",
    "bird.fly()      \n"
   ]
  },
  {
   "cell_type": "code",
   "execution_count": null,
   "id": "8a63d726-c102-4cf8-b7e0-6fdde7f7750f",
   "metadata": {},
   "outputs": [],
   "source": [
    "Q4. What are getter and setter in python? Create a class and create a getter and a setter method in this\n",
    "class.\n",
    "Ans: getters and setters are methods used to access and modify the values of class attributes. They provide an interface to retrieve and \n",
    "update the values of private attributes within a class. Getters are used to retrieve the value of an attribute, while setters are used to modify or \n",
    "set the value of an attribute."
   ]
  },
  {
   "cell_type": "code",
   "execution_count": 8,
   "id": "aed85c1e-9acf-4893-b14f-97aadbb65a69",
   "metadata": {},
   "outputs": [
    {
     "name": "stdout",
     "output_type": "stream",
     "text": [
      "25\n",
      "30\n",
      "Invalid age value. Age must be a positive integer.\n",
      "30\n"
     ]
    }
   ],
   "source": [
    "class Person:\n",
    "    def __init__(self, name, age):\n",
    "        self.name = name\n",
    "        self._age = age\n",
    "\n",
    "    def get_age(self):\n",
    "        return self._age\n",
    "\n",
    "    def set_age(self, new_age):\n",
    "        if new_age >= 0:\n",
    "            self._age = new_age\n",
    "        else:\n",
    "            print(\"Invalid age value. Age must be a positive integer.\")\n",
    "\n",
    "\n",
    "# Creating an instance of the Person class\n",
    "person = Person(\"John\", 25)\n",
    "\n",
    "# Using the getter method to retrieve the age\n",
    "print(person.get_age())  # Output: 25\n",
    "\n",
    "# Using the setter method to update the age\n",
    "person.set_age(30)\n",
    "print(person.get_age())  # Output: 30\n",
    "\n",
    "# Trying to set an invalid age value\n",
    "person.set_age(-5)  \n",
    "print(person.get_age())  \n"
   ]
  },
  {
   "cell_type": "code",
   "execution_count": null,
   "id": "b922b399-f444-4492-bda6-e042da18dcda",
   "metadata": {},
   "outputs": [],
   "source": [
    "Q5.What is method overriding in python? Write a python code to demonstrate method overriding.\n",
    "Ans: \n",
    "Method overriding in Python is a concept where a child class defines a method with the same name as a method in its parent class. \n",
    "By doing so, the child class provides its own implementation of the method, effectively overriding the implementation inherited \n",
    "from the parent class."
   ]
  },
  {
   "cell_type": "code",
   "execution_count": 9,
   "id": "fb24d546-abc9-442e-872e-e8bd20542500",
   "metadata": {},
   "outputs": [
    {
     "name": "stdout",
     "output_type": "stream",
     "text": [
      "The vehicle is moving.\n",
      "The car is moving at a high speed.\n"
     ]
    }
   ],
   "source": [
    "class Vehicle:\n",
    "    def move(self):\n",
    "        print(\"The vehicle is moving.\")\n",
    "\n",
    "\n",
    "class Car(Vehicle):\n",
    "    def move(self):\n",
    "        print(\"The car is moving at a high speed.\")\n",
    "\n",
    "\n",
    "vehicle = Vehicle()\n",
    "vehicle.move()  \n",
    "\n",
    "car = Car()\n",
    "car.move()  \n"
   ]
  },
  {
   "cell_type": "code",
   "execution_count": null,
   "id": "37729436-fd28-47e2-a030-dec0405f36c4",
   "metadata": {},
   "outputs": [],
   "source": []
  }
 ],
 "metadata": {
  "kernelspec": {
   "display_name": "Python 3 (ipykernel)",
   "language": "python",
   "name": "python3"
  },
  "language_info": {
   "codemirror_mode": {
    "name": "ipython",
    "version": 3
   },
   "file_extension": ".py",
   "mimetype": "text/x-python",
   "name": "python",
   "nbconvert_exporter": "python",
   "pygments_lexer": "ipython3",
   "version": "3.10.8"
  }
 },
 "nbformat": 4,
 "nbformat_minor": 5
}
